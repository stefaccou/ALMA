{
 "cells": [
  {
   "cell_type": "code",
   "execution_count": 4,
   "id": "initial_id",
   "metadata": {
    "collapsed": true,
    "ExecuteTime": {
     "end_time": "2025-02-13T13:34:03.429390200Z",
     "start_time": "2025-02-13T13:34:03.379881200Z"
    }
   },
   "outputs": [
    {
     "name": "stdout",
     "output_type": "stream",
     "text": [
      "('success', None)\n"
     ]
    }
   ],
   "source": [
    "import pickle\n",
    "\n",
    "# Specify the path to your pickle file\n",
    "file_path = \"result.pkl\"\n",
    "\n",
    "# Open the pickle file and load the data\n",
    "with open(file_path, \"rb\") as file:\n",
    "    data = pickle.load(file)\n",
    "\n",
    "# Print the loaded data\n",
    "print(data)"
   ]
  },
  {
   "cell_type": "code",
   "outputs": [
    {
     "data": {
      "text/plain": "('error',\n 'Traceback (most recent call last):\\n  File \"/data/leuven/372/vsc37220/miniconda3/envs/thesis/lib/python3.13/site-packages/submitit/core/submission.py\", line 55, in process_job\\n    result = delayed.result()\\n  File \"/data/leuven/372/vsc37220/miniconda3/envs/thesis/lib/python3.13/site-packages/submitit/core/utils.py\", line 137, in result\\n    self._result = self.function(*self.args, **self.kwargs)\\n                   ~~~~~~~~~~~~~^^^^^^^^^^^^^^^^^^^^^^^^^^^\\n  File \"/vsc-hard-mounts/leuven-data/372/vsc37220/Master_thesis/cross_lingual_transfer.py\", line 100, in main\\n    for adapter_name in model.config.adapters.adapters:\\n                        ^^^^^^^^^^^^^^^^^^^^^\\n  File \"/data/leuven/372/vsc37220/miniconda3/envs/thesis/lib/python3.13/site-packages/transformers/configuration_utils.py\", line 210, in __getattribute__\\n    return super().__getattribute__(key)\\n           ~~~~~~~~~~~~~~~~~~~~~~~~^^^^^\\nAttributeError: \\'XLMRobertaConfig\\' object has no attribute \\'adapters\\'\\n')"
     },
     "execution_count": 2,
     "metadata": {},
     "output_type": "execute_result"
    }
   ],
   "source": [],
   "metadata": {
    "collapsed": false,
    "ExecuteTime": {
     "end_time": "2025-02-13T13:27:23.621399100Z",
     "start_time": "2025-02-13T13:27:23.574885100Z"
    }
   },
   "id": "c000b1490f061486",
   "execution_count": 2
  },
  {
   "cell_type": "code",
   "outputs": [],
   "source": [],
   "metadata": {
    "collapsed": false
   },
   "id": "2d00225a3cca181e"
  }
 ],
 "metadata": {
  "kernelspec": {
   "display_name": "Python 3",
   "language": "python",
   "name": "python3"
  },
  "language_info": {
   "codemirror_mode": {
    "name": "ipython",
    "version": 2
   },
   "file_extension": ".py",
   "mimetype": "text/x-python",
   "name": "python",
   "nbconvert_exporter": "python",
   "pygments_lexer": "ipython2",
   "version": "2.7.6"
  }
 },
 "nbformat": 4,
 "nbformat_minor": 5
}
